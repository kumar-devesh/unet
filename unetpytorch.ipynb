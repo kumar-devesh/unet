{
  "nbformat": 4,
  "nbformat_minor": 5,
  "metadata": {
    "colab": {
      "name": "unetpytorch.ipynb",
      "provenance": [],
      "collapsed_sections": [
        "x4lSz0DlAqtB"
      ],
      "include_colab_link": true
    },
    "kernelspec": {
      "display_name": "Python 3",
      "language": "python",
      "name": "python3"
    },
    "language_info": {
      "codemirror_mode": {
        "name": "ipython",
        "version": 3
      },
      "file_extension": ".py",
      "mimetype": "text/x-python",
      "name": "python",
      "nbconvert_exporter": "python",
      "pygments_lexer": "ipython3",
      "version": "3.9.4"
    },
    "accelerator": "GPU"
  },
  "cells": [
    {
      "cell_type": "markdown",
      "metadata": {
        "id": "view-in-github",
        "colab_type": "text"
      },
      "source": [
        "<a href=\"https://colab.research.google.com/github/kumar-devesh/unet/blob/main/unetpytorch.ipynb\" target=\"_parent\"><img src=\"https://colab.research.google.com/assets/colab-badge.svg\" alt=\"Open In Colab\"/></a>"
      ]
    },
    {
      "cell_type": "code",
      "metadata": {
        "id": "o3OMxgP4Ajtw"
      },
      "source": [
        "import os\n",
        "from tqdm import tqdm\n",
        "import torch\n",
        "import torch.nn as nn\n",
        "import torch.nn.functional as F\n",
        "import torchvision \n",
        "import torch.optim as optim\n",
        "import numpy as np\n",
        "import matplotlib.pyplot as plt\n",
        "from PIL import Image"
      ],
      "id": "o3OMxgP4Ajtw",
      "execution_count": null,
      "outputs": []
    },
    {
      "cell_type": "markdown",
      "metadata": {
        "id": "IT3KCys_9o4E"
      },
      "source": [
        "set dir_path as the path to the unet directory"
      ],
      "id": "IT3KCys_9o4E"
    },
    {
      "cell_type": "code",
      "metadata": {
        "id": "Iz5XeRAVBLOu"
      },
      "source": [
        "dir_path='/content/drive/MyDrive/Colab Notebooks/unet'"
      ],
      "id": "Iz5XeRAVBLOu",
      "execution_count": null,
      "outputs": []
    },
    {
      "cell_type": "code",
      "metadata": {
        "colab": {
          "base_uri": "https://localhost:8080/"
        },
        "id": "ERtRHAP3na09",
        "outputId": "91c6c17e-9810-483e-b74e-fc0c3582319e"
      },
      "source": [
        "!nvidia-smi"
      ],
      "id": "ERtRHAP3na09",
      "execution_count": null,
      "outputs": [
        {
          "output_type": "stream",
          "text": [
            "Sat May 22 09:26:14 2021       \n",
            "+-----------------------------------------------------------------------------+\n",
            "| NVIDIA-SMI 465.19.01    Driver Version: 460.32.03    CUDA Version: 11.2     |\n",
            "|-------------------------------+----------------------+----------------------+\n",
            "| GPU  Name        Persistence-M| Bus-Id        Disp.A | Volatile Uncorr. ECC |\n",
            "| Fan  Temp  Perf  Pwr:Usage/Cap|         Memory-Usage | GPU-Util  Compute M. |\n",
            "|                               |                      |               MIG M. |\n",
            "|===============================+======================+======================|\n",
            "|   0  Tesla T4            Off  | 00000000:00:04.0 Off |                    0 |\n",
            "| N/A   68C    P0    30W /  70W |   7228MiB / 15109MiB |      0%      Default |\n",
            "|                               |                      |                  N/A |\n",
            "+-------------------------------+----------------------+----------------------+\n",
            "                                                                               \n",
            "+-----------------------------------------------------------------------------+\n",
            "| Processes:                                                                  |\n",
            "|  GPU   GI   CI        PID   Type   Process name                  GPU Memory |\n",
            "|        ID   ID                                                   Usage      |\n",
            "|=============================================================================|\n",
            "+-----------------------------------------------------------------------------+\n"
          ],
          "name": "stdout"
        }
      ]
    },
    {
      "cell_type": "code",
      "metadata": {
        "colab": {
          "base_uri": "https://localhost:8080/"
        },
        "id": "AAVOSWCu0-sa",
        "outputId": "e7f069fd-2ef6-43ff-f612-0755c21178bd"
      },
      "source": [
        "from google.colab import drive\n",
        "drive.mount('/content/drive')"
      ],
      "id": "AAVOSWCu0-sa",
      "execution_count": null,
      "outputs": [
        {
          "output_type": "stream",
          "text": [
            "Drive already mounted at /content/drive; to attempt to forcibly remount, call drive.mount(\"/content/drive\", force_remount=True).\n"
          ],
          "name": "stdout"
        }
      ]
    },
    {
      "cell_type": "code",
      "metadata": {
        "id": "mV6rMOFKBglB"
      },
      "source": [
        "batch_size=12"
      ],
      "id": "mV6rMOFKBglB",
      "execution_count": null,
      "outputs": []
    },
    {
      "cell_type": "code",
      "metadata": {
        "id": "NZfix9pQ-5s9"
      },
      "source": [
        "#input dim=256*256, out= 11*256*256\n",
        "def oneHotLabels(labels):\n",
        "  labels = torch.from_numpy(labels)\n",
        "  onehot=F.one_hot(labels.to(torch.int64),num_classes=11)\n",
        "  return np.transpose(np.array(onehot),(2,0,1))\n",
        "\n",
        "def intLabels(label):\n",
        "  return np.argmax(label, axis=0)"
      ],
      "id": "NZfix9pQ-5s9",
      "execution_count": null,
      "outputs": []
    },
    {
      "cell_type": "code",
      "metadata": {
        "id": "5gZ5gAQq-5vd"
      },
      "source": [
        "def plotLabel(label):\n",
        "  plt.imshow(label)\n",
        "  \n",
        "def plotImage(image):\n",
        "  image = np.array(image)\n",
        "  plt.imshow(np.transpose(image,(1,2,0)))"
      ],
      "id": "5gZ5gAQq-5vd",
      "execution_count": null,
      "outputs": []
    },
    {
      "cell_type": "markdown",
      "metadata": {
        "id": "ZQ5mWJfIF6pV"
      },
      "source": [
        "# MODEL"
      ],
      "id": "ZQ5mWJfIF6pV"
    },
    {
      "cell_type": "markdown",
      "metadata": {
        "id": "x4lSz0DlAqtB"
      },
      "source": [
        "##unet model (31M parameters)"
      ],
      "id": "x4lSz0DlAqtB"
    },
    {
      "cell_type": "code",
      "metadata": {
        "id": "7e4ceebb"
      },
      "source": [
        "class ConvBlock(nn.Module):\n",
        "    def __init__(self, in_channels, out_channels):\n",
        "        super(ConvBlock, self).__init__()\n",
        "        self.conv = nn.Sequential(\n",
        "            nn.Conv2d(in_channels, out_channels, kernel_size=3, padding=1),\n",
        "            nn.BatchNorm2d(out_channels),\n",
        "            nn.LeakyReLU(negative_slope=0.05, inplace=True),\n",
        "\n",
        "            nn.Conv2d(out_channels, out_channels, kernel_size=3, padding=1),\n",
        "            nn.BatchNorm2d(out_channels),\n",
        "            nn.LeakyReLU(negative_slope=0.05, inplace=True),\n",
        "        )\n",
        "    def forward(self, x):\n",
        "      return self.conv(x)\n",
        "\n",
        "class Down(nn.Module):\n",
        "    def __init__(self, in_channels, out_channels):\n",
        "        super(Down, self).__init__()\n",
        "        self.conv = nn.Sequential(\n",
        "            nn.MaxPool2d(kernel_size=2,stride=2),\n",
        "            ConvBlock(in_channels, out_channels)\n",
        "        )\n",
        "        \n",
        "    def forward(self, x):\n",
        "        return self.conv(x)\n",
        "\n",
        "\n",
        "class Up(nn.Module):\n",
        "    def __init__(self, in_channels, out_channels):\n",
        "        super(Up, self).__init__()\n",
        "        self.up = nn.ConvTranspose2d(in_channels , out_channels, kernel_size=2, stride=2)\n",
        "        self.conv = ConvBlock(in_channels, out_channels)\n",
        "\n",
        "    def forward(self, x1, x2):\n",
        "        x1 = self.up(x1)\n",
        "        x = torch.cat([x2, x1], dim=1)\n",
        "        return self.conv(x)\n",
        "\n",
        "class OutConv(nn.Module):\n",
        "    def __init__(self, in_channels, out_channels):\n",
        "        super(OutConv, self).__init__()\n",
        "        self.conv = nn.Conv2d(in_channels, out_channels, kernel_size=1)\n",
        "\n",
        "    def forward(self, x):\n",
        "        x=self.conv(x)\n",
        "        return x\n"
      ],
      "id": "7e4ceebb",
      "execution_count": null,
      "outputs": []
    },
    {
      "cell_type": "code",
      "metadata": {
        "id": "Av6igjuIEpnL"
      },
      "source": [
        "class UNet(nn.Module):\n",
        "    def __init__(self, in_channels, n_classes,batch_size):\n",
        "        super(UNet, self).__init__()\n",
        "        self.in_channels = in_channels\n",
        "        self.n_classes = n_classes\n",
        "        self.batch_size = batch_size\n",
        "\n",
        "        self.inc = ConvBlock(in_channels, 64)\n",
        "        self.down1 = Down(64, 128)\n",
        "        self.down2 = Down(128, 256)\n",
        "        self.down3 = Down(256, 512)\n",
        "        self.down4 = Down(512, 1024)\n",
        "        self.up1 = Up(1024, 512)\n",
        "        self.up2 = Up(512, 256)\n",
        "        self.up3 = Up(256, 128)\n",
        "        self.up4 = Up(128, 64)\n",
        "        self.outc = OutConv(64, n_classes)\n",
        "        self.final = nn.Softmax(dim=1)\n",
        "\n",
        "    def forward(self, x):\n",
        "        x1 = self.inc(x)\n",
        "        x2 = self.down1(x1)\n",
        "        x3 = self.down2(x2)\n",
        "        x4 = self.down3(x3)\n",
        "        x5 = self.down4(x4)\n",
        "        x = self.up1(x5, x4)\n",
        "        x = self.up2(x, x3)\n",
        "        x = self.up3(x, x2)\n",
        "        x = self.up4(x, x1)\n",
        "        out = self.outc(x)\n",
        "        x = self.final(out[0:1])\n",
        "        for i in range(1,self.batch_size,1):\n",
        "          x=torch.cat([x,self.final(out[i:i+1])],dim=0)\n",
        "        return x"
      ],
      "id": "Av6igjuIEpnL",
      "execution_count": null,
      "outputs": []
    },
    {
      "cell_type": "code",
      "metadata": {
        "id": "5aaf0b8b"
      },
      "source": [
        "unet_model=UNet(in_channels=3, n_classes=11, batch_size=batch_size)"
      ],
      "id": "5aaf0b8b",
      "execution_count": null,
      "outputs": []
    },
    {
      "cell_type": "code",
      "metadata": {
        "id": "e4a6a70a",
        "colab": {
          "base_uri": "https://localhost:8080/"
        },
        "outputId": "0c687026-31e8-4a68-f06a-c15b373fa9f4"
      },
      "source": [
        "total_params = sum(p.numel() for p in unet_model.parameters())\n",
        "print(total_params)"
      ],
      "id": "e4a6a70a",
      "execution_count": null,
      "outputs": [
        {
          "output_type": "stream",
          "text": [
            "31044171\n"
          ],
          "name": "stdout"
        }
      ]
    },
    {
      "cell_type": "code",
      "metadata": {
        "id": "6d9c8e8f",
        "colab": {
          "base_uri": "https://localhost:8080/"
        },
        "outputId": "dfe4fc87-cb0b-4cb1-cce0-6167a37916e1"
      },
      "source": [
        "def test():\n",
        "    x = torch.randn((1, 3, 256, 256))\n",
        "    pred = unet_model(x)\n",
        "    print(pred.shape)\n",
        "test()"
      ],
      "id": "6d9c8e8f",
      "execution_count": null,
      "outputs": [
        {
          "output_type": "stream",
          "text": [
            "torch.Size([1, 11, 256, 256])\n"
          ],
          "name": "stdout"
        }
      ]
    },
    {
      "cell_type": "code",
      "metadata": {
        "id": "4TNvtuBQCMZh",
        "colab": {
          "base_uri": "https://localhost:8080/"
        },
        "outputId": "d931f107-c453-41a2-e7da-bd1ec952b023"
      },
      "source": [
        "if torch.cuda.is_available():\n",
        "  device=torch.device('cuda')\n",
        "else:\n",
        "  device=torch.device('cpu')\n",
        "unet_model.to(device)"
      ],
      "id": "4TNvtuBQCMZh",
      "execution_count": null,
      "outputs": [
        {
          "output_type": "execute_result",
          "data": {
            "text/plain": [
              "UNet(\n",
              "  (inc): ConvBlock(\n",
              "    (conv): Sequential(\n",
              "      (0): Conv2d(3, 64, kernel_size=(3, 3), stride=(1, 1), padding=(1, 1))\n",
              "      (1): BatchNorm2d(64, eps=1e-05, momentum=0.1, affine=True, track_running_stats=True)\n",
              "      (2): LeakyReLU(negative_slope=0.05, inplace=True)\n",
              "      (3): Conv2d(64, 64, kernel_size=(3, 3), stride=(1, 1), padding=(1, 1))\n",
              "      (4): BatchNorm2d(64, eps=1e-05, momentum=0.1, affine=True, track_running_stats=True)\n",
              "      (5): LeakyReLU(negative_slope=0.05, inplace=True)\n",
              "    )\n",
              "  )\n",
              "  (down1): Down(\n",
              "    (conv): Sequential(\n",
              "      (0): MaxPool2d(kernel_size=2, stride=2, padding=0, dilation=1, ceil_mode=False)\n",
              "      (1): ConvBlock(\n",
              "        (conv): Sequential(\n",
              "          (0): Conv2d(64, 128, kernel_size=(3, 3), stride=(1, 1), padding=(1, 1))\n",
              "          (1): BatchNorm2d(128, eps=1e-05, momentum=0.1, affine=True, track_running_stats=True)\n",
              "          (2): LeakyReLU(negative_slope=0.05, inplace=True)\n",
              "          (3): Conv2d(128, 128, kernel_size=(3, 3), stride=(1, 1), padding=(1, 1))\n",
              "          (4): BatchNorm2d(128, eps=1e-05, momentum=0.1, affine=True, track_running_stats=True)\n",
              "          (5): LeakyReLU(negative_slope=0.05, inplace=True)\n",
              "        )\n",
              "      )\n",
              "    )\n",
              "  )\n",
              "  (down2): Down(\n",
              "    (conv): Sequential(\n",
              "      (0): MaxPool2d(kernel_size=2, stride=2, padding=0, dilation=1, ceil_mode=False)\n",
              "      (1): ConvBlock(\n",
              "        (conv): Sequential(\n",
              "          (0): Conv2d(128, 256, kernel_size=(3, 3), stride=(1, 1), padding=(1, 1))\n",
              "          (1): BatchNorm2d(256, eps=1e-05, momentum=0.1, affine=True, track_running_stats=True)\n",
              "          (2): LeakyReLU(negative_slope=0.05, inplace=True)\n",
              "          (3): Conv2d(256, 256, kernel_size=(3, 3), stride=(1, 1), padding=(1, 1))\n",
              "          (4): BatchNorm2d(256, eps=1e-05, momentum=0.1, affine=True, track_running_stats=True)\n",
              "          (5): LeakyReLU(negative_slope=0.05, inplace=True)\n",
              "        )\n",
              "      )\n",
              "    )\n",
              "  )\n",
              "  (down3): Down(\n",
              "    (conv): Sequential(\n",
              "      (0): MaxPool2d(kernel_size=2, stride=2, padding=0, dilation=1, ceil_mode=False)\n",
              "      (1): ConvBlock(\n",
              "        (conv): Sequential(\n",
              "          (0): Conv2d(256, 512, kernel_size=(3, 3), stride=(1, 1), padding=(1, 1))\n",
              "          (1): BatchNorm2d(512, eps=1e-05, momentum=0.1, affine=True, track_running_stats=True)\n",
              "          (2): LeakyReLU(negative_slope=0.05, inplace=True)\n",
              "          (3): Conv2d(512, 512, kernel_size=(3, 3), stride=(1, 1), padding=(1, 1))\n",
              "          (4): BatchNorm2d(512, eps=1e-05, momentum=0.1, affine=True, track_running_stats=True)\n",
              "          (5): LeakyReLU(negative_slope=0.05, inplace=True)\n",
              "        )\n",
              "      )\n",
              "    )\n",
              "  )\n",
              "  (down4): Down(\n",
              "    (conv): Sequential(\n",
              "      (0): MaxPool2d(kernel_size=2, stride=2, padding=0, dilation=1, ceil_mode=False)\n",
              "      (1): ConvBlock(\n",
              "        (conv): Sequential(\n",
              "          (0): Conv2d(512, 1024, kernel_size=(3, 3), stride=(1, 1), padding=(1, 1))\n",
              "          (1): BatchNorm2d(1024, eps=1e-05, momentum=0.1, affine=True, track_running_stats=True)\n",
              "          (2): LeakyReLU(negative_slope=0.05, inplace=True)\n",
              "          (3): Conv2d(1024, 1024, kernel_size=(3, 3), stride=(1, 1), padding=(1, 1))\n",
              "          (4): BatchNorm2d(1024, eps=1e-05, momentum=0.1, affine=True, track_running_stats=True)\n",
              "          (5): LeakyReLU(negative_slope=0.05, inplace=True)\n",
              "        )\n",
              "      )\n",
              "    )\n",
              "  )\n",
              "  (up1): Up(\n",
              "    (up): ConvTranspose2d(1024, 512, kernel_size=(2, 2), stride=(2, 2))\n",
              "    (conv): ConvBlock(\n",
              "      (conv): Sequential(\n",
              "        (0): Conv2d(1024, 512, kernel_size=(3, 3), stride=(1, 1), padding=(1, 1))\n",
              "        (1): BatchNorm2d(512, eps=1e-05, momentum=0.1, affine=True, track_running_stats=True)\n",
              "        (2): LeakyReLU(negative_slope=0.05, inplace=True)\n",
              "        (3): Conv2d(512, 512, kernel_size=(3, 3), stride=(1, 1), padding=(1, 1))\n",
              "        (4): BatchNorm2d(512, eps=1e-05, momentum=0.1, affine=True, track_running_stats=True)\n",
              "        (5): LeakyReLU(negative_slope=0.05, inplace=True)\n",
              "      )\n",
              "    )\n",
              "  )\n",
              "  (up2): Up(\n",
              "    (up): ConvTranspose2d(512, 256, kernel_size=(2, 2), stride=(2, 2))\n",
              "    (conv): ConvBlock(\n",
              "      (conv): Sequential(\n",
              "        (0): Conv2d(512, 256, kernel_size=(3, 3), stride=(1, 1), padding=(1, 1))\n",
              "        (1): BatchNorm2d(256, eps=1e-05, momentum=0.1, affine=True, track_running_stats=True)\n",
              "        (2): LeakyReLU(negative_slope=0.05, inplace=True)\n",
              "        (3): Conv2d(256, 256, kernel_size=(3, 3), stride=(1, 1), padding=(1, 1))\n",
              "        (4): BatchNorm2d(256, eps=1e-05, momentum=0.1, affine=True, track_running_stats=True)\n",
              "        (5): LeakyReLU(negative_slope=0.05, inplace=True)\n",
              "      )\n",
              "    )\n",
              "  )\n",
              "  (up3): Up(\n",
              "    (up): ConvTranspose2d(256, 128, kernel_size=(2, 2), stride=(2, 2))\n",
              "    (conv): ConvBlock(\n",
              "      (conv): Sequential(\n",
              "        (0): Conv2d(256, 128, kernel_size=(3, 3), stride=(1, 1), padding=(1, 1))\n",
              "        (1): BatchNorm2d(128, eps=1e-05, momentum=0.1, affine=True, track_running_stats=True)\n",
              "        (2): LeakyReLU(negative_slope=0.05, inplace=True)\n",
              "        (3): Conv2d(128, 128, kernel_size=(3, 3), stride=(1, 1), padding=(1, 1))\n",
              "        (4): BatchNorm2d(128, eps=1e-05, momentum=0.1, affine=True, track_running_stats=True)\n",
              "        (5): LeakyReLU(negative_slope=0.05, inplace=True)\n",
              "      )\n",
              "    )\n",
              "  )\n",
              "  (up4): Up(\n",
              "    (up): ConvTranspose2d(128, 64, kernel_size=(2, 2), stride=(2, 2))\n",
              "    (conv): ConvBlock(\n",
              "      (conv): Sequential(\n",
              "        (0): Conv2d(128, 64, kernel_size=(3, 3), stride=(1, 1), padding=(1, 1))\n",
              "        (1): BatchNorm2d(64, eps=1e-05, momentum=0.1, affine=True, track_running_stats=True)\n",
              "        (2): LeakyReLU(negative_slope=0.05, inplace=True)\n",
              "        (3): Conv2d(64, 64, kernel_size=(3, 3), stride=(1, 1), padding=(1, 1))\n",
              "        (4): BatchNorm2d(64, eps=1e-05, momentum=0.1, affine=True, track_running_stats=True)\n",
              "        (5): LeakyReLU(negative_slope=0.05, inplace=True)\n",
              "      )\n",
              "    )\n",
              "  )\n",
              "  (outc): OutConv(\n",
              "    (conv): Conv2d(64, 11, kernel_size=(1, 1), stride=(1, 1))\n",
              "  )\n",
              "  (final): Softmax(dim=1)\n",
              ")"
            ]
          },
          "metadata": {
            "tags": []
          },
          "execution_count": 13
        }
      ]
    },
    {
      "cell_type": "markdown",
      "metadata": {
        "id": "WM1mO1kiK947"
      },
      "source": [
        "run to load pretrained weights"
      ],
      "id": "WM1mO1kiK947"
    },
    {
      "cell_type": "code",
      "metadata": {
        "id": "HuVKZhIAAXqk",
        "colab": {
          "base_uri": "https://localhost:8080/"
        },
        "outputId": "70a4e0e9-76c5-4d0f-86e2-685a2a0b9fbe"
      },
      "source": [
        "unet_model.load_state_dict(torch.load(os.path.join(dir_path,'model_weights.pth'), map_location=device))"
      ],
      "id": "HuVKZhIAAXqk",
      "execution_count": null,
      "outputs": [
        {
          "output_type": "execute_result",
          "data": {
            "text/plain": [
              "<All keys matched successfully>"
            ]
          },
          "metadata": {
            "tags": []
          },
          "execution_count": 14
        }
      ]
    },
    {
      "cell_type": "markdown",
      "metadata": {
        "id": "qhTo5r2JGWeE"
      },
      "source": [
        "# DATASET"
      ],
      "id": "qhTo5r2JGWeE"
    },
    {
      "cell_type": "markdown",
      "metadata": {
        "id": "ykG1WWM_l9cs"
      },
      "source": [
        "##helen dataset"
      ],
      "id": "ykG1WWM_l9cs"
    },
    {
      "cell_type": "code",
      "metadata": {
        "id": "8VtCQcPamAcO"
      },
      "source": [
        "import os\n",
        "import random\n",
        "import cv2\n",
        "import pandas as pd\n",
        "import PIL\n",
        "from PIL import Image\n",
        "from torchvision.io import read_image\n",
        "from torch.utils.data import Dataset\n",
        "from torchvision import transforms\n",
        "\n",
        "class HelenDataset(Dataset):\n",
        "    def __init__(self, label_dir, img_dir):\n",
        "        self.img_list=os.listdir(img_dir)\n",
        "        self.label_list=os.listdir(label_dir)\n",
        "        self.label_dir = label_dir\n",
        "        self.img_dir = img_dir\n",
        "        self.label_list.sort()\n",
        "        self.img_list.sort()\n",
        "        #print(self.label_list)\n",
        "        #print(self.img_list)\n",
        "\n",
        "    def __len__(self):\n",
        "        return len(self.img_list)\n",
        "\n",
        "    def __getitem__(self, idx):\n",
        "\n",
        "        img_path = os.path.join(self.img_dir, self.img_list[idx])\n",
        "        image = Image.open(img_path)\n",
        "        image = image.resize((256,256), resample=PIL.Image.BICUBIC)\n",
        "\n",
        "        image = np.array(image)/255\n",
        "        image = np.transpose(image,(2,0,1))\n",
        "        image = torch.tensor(image, dtype=torch.float32, requires_grad=False)\n",
        "\n",
        "        label_path = os.path.join(self.label_dir, self.label_list[idx])\n",
        "        label = Image.open(label_path)\n",
        "        label = label.resize((256,256), resample=PIL.Image.NEAREST)\n",
        "\n",
        "        label = np.array(label)\n",
        "        label = oneHotLabels(label)\n",
        "\n",
        "        label = torch.tensor(label, dtype=torch.float32, requires_grad=False)\n",
        "\n",
        "        sample = [image, label]\n",
        "        return sample"
      ],
      "id": "8VtCQcPamAcO",
      "execution_count": null,
      "outputs": []
    },
    {
      "cell_type": "code",
      "metadata": {
        "id": "N8qAEauZmAfV"
      },
      "source": [
        "train_label_path= os.path.join(dir_path, \"data/train/labels\")\n",
        "train_image_path= os.path.join(dir_path, \"data/train/images\")\n",
        "\n",
        "training_data = HelenDataset(label_dir=train_label_path, img_dir=train_image_path)\n",
        "\n",
        "test_label_path= os.path.join(dir_path, \"data/test/labels\")\n",
        "test_image_path= os.path.join(dir_path, \"data/test/images\")\n",
        "\n",
        "test_data = HelenDataset(label_dir=test_label_path, img_dir=test_image_path)"
      ],
      "id": "N8qAEauZmAfV",
      "execution_count": null,
      "outputs": []
    },
    {
      "cell_type": "code",
      "metadata": {
        "id": "Nd20sGcemD8i"
      },
      "source": [
        "from torch.utils.data import DataLoader\n",
        "train_dataloader = DataLoader(training_data, batch_size, shuffle=True)\n",
        "test_dataloader = DataLoader(test_data, batch_size, shuffle=True)"
      ],
      "id": "Nd20sGcemD8i",
      "execution_count": null,
      "outputs": []
    },
    {
      "cell_type": "code",
      "metadata": {
        "colab": {
          "base_uri": "https://localhost:8080/"
        },
        "id": "FlO42VzlmEAB",
        "outputId": "0fbb800e-20ee-46ed-9414-0413acbef264"
      },
      "source": [
        "train_images, train_labels = next(iter(train_dataloader))\n",
        "print(f\"Feature batch shape: {train_images.size()}\")\n",
        "print(f\"Labels batch shape: {train_labels.size()}\")"
      ],
      "id": "FlO42VzlmEAB",
      "execution_count": null,
      "outputs": [
        {
          "output_type": "stream",
          "text": [
            "Feature batch shape: torch.Size([12, 3, 256, 256])\n",
            "Labels batch shape: torch.Size([12, 11, 256, 256])\n"
          ],
          "name": "stdout"
        }
      ]
    },
    {
      "cell_type": "markdown",
      "metadata": {
        "id": "FknBo9m_GgbI"
      },
      "source": [
        "#MODEL TRAINING"
      ],
      "id": "FknBo9m_GgbI"
    },
    {
      "cell_type": "markdown",
      "metadata": {
        "id": "uSZamBEEHISp"
      },
      "source": [
        "##Tensorboard visualization"
      ],
      "id": "uSZamBEEHISp"
    },
    {
      "cell_type": "code",
      "metadata": {
        "id": "zynv9gpkHPRD"
      },
      "source": [
        "from torch.utils.tensorboard import SummaryWriter\n",
        "writer = SummaryWriter('runs/exp_1')"
      ],
      "id": "zynv9gpkHPRD",
      "execution_count": null,
      "outputs": []
    },
    {
      "cell_type": "code",
      "metadata": {
        "colab": {
          "base_uri": "https://localhost:8080/",
          "height": 286
        },
        "id": "e2DDqtptHPcb",
        "outputId": "ada3a978-5b59-43e1-c829-60f92feed904"
      },
      "source": [
        "images, labels = next(iter(train_dataloader))\n",
        "img_grid = torchvision.utils.make_grid(images, nrow=4)\n",
        "img_grig = np.array(img_grid)\n",
        "img_grid = np.transpose(img_grid,(1,2,0))\n",
        "plt.imshow(img_grid)"
      ],
      "id": "e2DDqtptHPcb",
      "execution_count": null,
      "outputs": [
        {
          "output_type": "execute_result",
          "data": {
            "text/plain": [
              "<matplotlib.image.AxesImage at 0x7f187a588890>"
            ]
          },
          "metadata": {
            "tags": []
          },
          "execution_count": 20
        },
        {
          "output_type": "display_data",
          "data": {
            "image/png": "[encoded data removed]",
            "text/plain": [
              "<Figure size 432x288 with 1 Axes>"
            ]
          },
          "metadata": {
            "tags": [],
            "needs_background": "light"
          }
        }
      ]
    },
    {
      "cell_type": "code",
      "metadata": {
        "id": "yiXgMAqMHPi2"
      },
      "source": [
        "images, labels = next(iter(train_dataloader))\n",
        "img_grid = torchvision.utils.make_grid(images, nrow=4)\n",
        "writer.add_image('images', img_grid)"
      ],
      "id": "yiXgMAqMHPi2",
      "execution_count": null,
      "outputs": []
    },
    {
      "cell_type": "markdown",
      "metadata": {
        "id": "5QlJeRiZLebx"
      },
      "source": [
        "add model graph"
      ],
      "id": "5QlJeRiZLebx"
    },
    {
      "cell_type": "code",
      "metadata": {
        "id": "3FVQo_wrtfjq"
      },
      "source": [
        "writer.add_graph(unet_model, images.to(device))"
      ],
      "id": "3FVQo_wrtfjq",
      "execution_count": null,
      "outputs": []
    },
    {
      "cell_type": "code",
      "metadata": {
        "id": "vZdkMg7LHPln"
      },
      "source": [
        "%load_ext tensorboard\n",
        "%tensorboard --logdir=runs"
      ],
      "id": "vZdkMg7LHPln",
      "execution_count": null,
      "outputs": []
    },
    {
      "cell_type": "markdown",
      "metadata": {
        "id": "uZdnOzqkA7eH"
      },
      "source": [
        "##Train model"
      ],
      "id": "uZdnOzqkA7eH"
    },
    {
      "cell_type": "code",
      "metadata": {
        "id": "1y3O5JhhD0xp"
      },
      "source": [
        "classes =['bg','face','lb','rb','le','re','nose','ulip','imouth','llip','hair']"
      ],
      "id": "1y3O5JhhD0xp",
      "execution_count": null,
      "outputs": []
    },
    {
      "cell_type": "code",
      "metadata": {
        "id": "dc664c79"
      },
      "source": [
        "def twersky(y_pred, y_label):\n",
        "    b=0.3\n",
        "    #print(y_pred.size())\n",
        "    x=y_pred*y_label\n",
        "    intersection=torch.sum(x, dim=(2,3))\n",
        "    union = b*torch.sum(y_label, dim=(2,3))+(1-b)*torch.sum(y_pred, dim=(2,3))\n",
        "    loss = torch.sum(1-torch.div(intersection,union))\n",
        "    return loss"
      ],
      "id": "dc664c79",
      "execution_count": null,
      "outputs": []
    },
    {
      "cell_type": "code",
      "metadata": {
        "id": "OzRy43SB9QO1"
      },
      "source": [
        "def IOU(y_pred, y_label):\n",
        "  x=y_pred*y_label\n",
        "  intersection=torch.sum(x, dim=(2,3))\n",
        "  union = torch.sum(y_label, dim=(2,3))+torch.sum(y_pred, dim=(2,3))+0.00001\n",
        "  IOU_score = torch.sum(torch.div(intersection,union-intersection), dim=(0))\n",
        "  return IOU_score"
      ],
      "id": "OzRy43SB9QO1",
      "execution_count": null,
      "outputs": []
    },
    {
      "cell_type": "code",
      "metadata": {
        "id": "SLJZvyZP5OHw"
      },
      "source": [
        "optimizer = optim.Adam(unet_model.parameters(), lr=0.01, betas=(0.9, 0.999))\n",
        "scheduler=torch.optim.lr_scheduler.ReduceLROnPlateau(optimizer, mode='min', factor=0.3, patience=5, min_lr=0.000001, eps=1e-08, verbose=True)"
      ],
      "id": "SLJZvyZP5OHw",
      "execution_count": null,
      "outputs": []
    },
    {
      "cell_type": "code",
      "metadata": {
        "id": "4198fc51"
      },
      "source": [
        "def train(num_epochs, initial_loss, plot_gradients=False):\n",
        "    start=0\n",
        "    end=200\n",
        "    running_loss = initial_loss\n",
        "    for epochs in tqdm(range(num_epochs)):\n",
        "      for iteration in range(start,end):\n",
        "          images, labels = next(iter(train_dataloader))\n",
        "          images=images.to(device)\n",
        "          labels=labels.to(device)\n",
        "\n",
        "          preds = unet_model(images)\n",
        "          loss = twersky(preds, labels)\n",
        "\n",
        "          optimizer.zero_grad() #set gradients 0\n",
        "          loss.backward() #calculate gradients\n",
        "\n",
        "          nn.utils.clip_grad_norm_(unet_model.parameters(), max_norm=0.01, norm_type=2.0)\n",
        "          optimizer.step() #update weights\n",
        "\n",
        "          running_loss = running_loss*0.9 + loss.item()*0.1\n",
        "\n",
        "          if plot_gradients and j%200==1:\n",
        "            for tag, parm in unet_model.named_parameters():\n",
        "              writer.add_histogram(tag, parm.grad.data.cpu().numpy(), iteration//200)\n",
        "          \n",
        "          if iteration%10==1:\n",
        "            print('  loss==> '+str(running_loss))\n",
        "\n",
        "          if iteration % 50 == 1:\n",
        "            scheduler.step(running_loss) #update lr\n",
        "            writer.add_scalar('training loss', loss.item(), iteration)\n",
        "\n",
        "            test_images, test_labels = next(iter(test_dataloader))\n",
        "            test_images=test_images.to(device)\n",
        "            test_labels=test_labels.to(device)\n",
        "\n",
        "            unet_model.eval()\n",
        "            preds = unet_model(test_images)\n",
        "            iou = IOU(preds, test_labels)\n",
        "            loss = twersky(preds, test_labels)\n",
        "            writer.add_scalar('test loss', loss.item(), iteration)\n",
        "\n",
        "            for i in range(11):\n",
        "              writer.add_scalar('training iou class '+classes[i], iou[i], iteration)\n",
        "            unet_model.train(True)\n",
        "            torch.cuda.empty_cache()\n",
        "\n",
        "          del images\n",
        "          del labels"
      ],
      "id": "4198fc51",
      "execution_count": null,
      "outputs": []
    },
    {
      "cell_type": "code",
      "metadata": {
        "id": "UmBeUS-GHntL"
      },
      "source": [
        "train(num_epochs=40,initial_loss=batch_size*11)\n",
        "torch.cuda.empty_cache()"
      ],
      "id": "UmBeUS-GHntL",
      "execution_count": null,
      "outputs": []
    },
    {
      "cell_type": "markdown",
      "metadata": {
        "id": "9umGco6TGovR"
      },
      "source": [
        "# PLOT RESULTS"
      ],
      "id": "9umGco6TGovR"
    },
    {
      "cell_type": "markdown",
      "metadata": {
        "id": "qGjN7jYZV8HD"
      },
      "source": [
        "run test set preds to save predictions on test set to ./data/test/preds (predictions already saved on model weights in preds dir)"
      ],
      "id": "qGjN7jYZV8HD"
    },
    {
      "cell_type": "markdown",
      "metadata": {
        "id": "81-T3rCwJcFv"
      },
      "source": [
        "##test set preds"
      ],
      "id": "81-T3rCwJcFv"
    },
    {
      "cell_type": "code",
      "metadata": {
        "id": "ea5IKuMDK5Bg"
      },
      "source": [
        "test_imgpath=os.path.join(dir_path,'data/test/images')\n",
        "test_labelpath=os.path.join(dir_path,'data/test/labels')\n",
        "test_predpath=os.path.join(dir_path,'data/test/preds')"
      ],
      "id": "ea5IKuMDK5Bg",
      "execution_count": null,
      "outputs": []
    },
    {
      "cell_type": "code",
      "metadata": {
        "id": "qg-8b82_JfWL"
      },
      "source": [
        "test_imglist=os.listdir(os.path.join(dir_path,'data/test/images'))\n",
        "test_labellist=os.listdir(os.path.join(dir_path,'data/test/labels'))"
      ],
      "id": "qg-8b82_JfWL",
      "execution_count": null,
      "outputs": []
    },
    {
      "cell_type": "code",
      "metadata": {
        "id": "ZA8Nj5z9JfZW"
      },
      "source": [
        "test_imglist.sort()\n",
        "test_labellist.sort()"
      ],
      "id": "ZA8Nj5z9JfZW",
      "execution_count": null,
      "outputs": []
    },
    {
      "cell_type": "code",
      "metadata": {
        "id": "cv4GWVL8V2YE"
      },
      "source": [
        "for i in range(len(test_labellist)):\n",
        "  img=Image.open(os.path.join(test_imgpath, test_imglist[i]))\n",
        "  img=np.array(img)\n",
        "  img=np.transpose(img,(2,0,1))\n",
        "  img_tensor=torch.tensor(img,dtype=torch.float32)\n",
        "  img_tensor=img_tensor.unsqueeze(0)\n",
        "\n",
        "  label=Image.open(os.path.join(test_labelpath, test_labellist[i]))\n",
        "  label=np.array(label)\n",
        "  label_tensor=torch.tensor(label,dtype=torch.float32)\n",
        "  label_tensor=label_tensor.unsqueeze(0)\n",
        "\n",
        "  pred=unet_model(img_tensor.to(device))\n",
        "\n",
        "  pred=np.array(pred.clone().detach().cpu())\n",
        "  pred=intLabels(pred[0])\n",
        "  pred=pred.astype(np.uint8)\n",
        "\n",
        "  pred=Image.fromarray(pred)\n",
        "  pred=pred.save(os.path.join(test_predpath, test_labellist[i]))"
      ],
      "id": "cv4GWVL8V2YE",
      "execution_count": null,
      "outputs": []
    },
    {
      "cell_type": "markdown",
      "metadata": {
        "id": "bJdr8C5uCWex"
      },
      "source": [
        "##plot results"
      ],
      "id": "bJdr8C5uCWex"
    },
    {
      "cell_type": "markdown",
      "metadata": {
        "id": "Nx4Xp696C1OZ"
      },
      "source": [
        "`!python3   path/to/f1_score/    path/to/test/labels    path/to/test/preds  path/to/labels_names.txt`"
      ],
      "id": "Nx4Xp696C1OZ"
    },
    {
      "cell_type": "code",
      "metadata": {
        "id": "K2noeEDLZZHJ",
        "colab": {
          "base_uri": "https://localhost:8080/"
        },
        "outputId": "9eeefe84-2f6d-4e02-f189-79383c4b8464"
      },
      "source": [
        "!python3 /content/drive/MyDrive/Colab\\ Notebooks/unet/f1_score.py --help"
      ],
      "id": "K2noeEDLZZHJ",
      "execution_count": null,
      "outputs": [
        {
          "output_type": "stream",
          "text": [
            "usage: f1_score.py [-h] gt_dir pred_dir label_names_file\n",
            "\n",
            "positional arguments:\n",
            "  gt_dir            the directory containing the groundtruth labels (in .png)\n",
            "  pred_dir          the directory containing the prediction labels (names\n",
            "                    should be the same with groundtruth files)\n",
            "  label_names_file  the path to label_names.txt file\n",
            "\n",
            "optional arguments:\n",
            "  -h, --help        show this help message and exit\n"
          ],
          "name": "stdout"
        }
      ]
    },
    {
      "cell_type": "code",
      "metadata": {
        "id": "CMrOE8c-BGP4",
        "colab": {
          "base_uri": "https://localhost:8080/"
        },
        "outputId": "97164f97-da34-4905-96b0-3eec8ffeb750"
      },
      "source": [
        "!python3 /content/drive/MyDrive/Colab\\ Notebooks/unet/f1_score.py '/content/drive/MyDrive/Colab Notebooks/unet/data/test/labels' '/content/drive/MyDrive/Colab Notebooks/unet/data/test/preds' '/content/drive/MyDrive/Colab Notebooks/unet/label_names.txt'"
      ],
      "id": "CMrOE8c-BGP4",
      "execution_count": null,
      "outputs": [
        {
          "output_type": "stream",
          "text": [
            "100% 100/100 [01:09<00:00,  1.43it/s]\n",
            "{'bg': ([0], [0]), 'face': ([1], [1]), 'lb': ([2], [2]), 'rb': ([3], [3]), 'le': ([4], [4]), 're': ([5], [5]), 'nose': ([6], [6]), 'ulip': ([7], [7]), 'imouth': ([8], [8]), 'llip': ([9], [9]), 'hair': ([10], [10]), 'eyes': ([4, 5], [4, 5]), 'brows': ([2, 3], [2, 3]), 'mouth': ([7, 8, 9], [7, 8, 9]), 'overall': ([4, 5, 2, 3, 6, 7, 8, 9], [4, 5, 2, 3, 6, 7, 8, 9])}\n",
            "f1_bg=0.9379874802503227\n",
            "f1_face=0.8975739275489326\n",
            "f1_lb=0.7412928929443516\n",
            "f1_rb=0.761212647106676\n",
            "f1_le=0.8356334041047417\n",
            "f1_re=0.8646787965487952\n",
            "f1_nose=0.8890915506337703\n",
            "f1_ulip=0.7408777201730343\n",
            "f1_imouth=0.7816763526742705\n",
            "f1_llip=0.8074722443257171\n",
            "f1_hair=0.6783965714892594\n",
            "f1_eyes=0.8500789292304956\n",
            "f1_brows=0.7517517121254107\n",
            "f1_mouth=0.8676697731729751\n",
            "f1_overall=0.8555103672626286\n"
          ],
          "name": "stdout"
        }
      ]
    },
    {
      "cell_type": "code",
      "metadata": {
        "colab": {
          "base_uri": "https://localhost:8080/"
        },
        "id": "21bed709",
        "outputId": "990c85f4-bd0a-44a4-a057-b8fc7075c3d1"
      },
      "source": [
        "images, labels = next(iter(test_dataloader))\n",
        "preds = unet_model(images.to(device))\n",
        "x=torch.tensor(preds.clone().detach(),device='cpu')"
      ],
      "id": "21bed709",
      "execution_count": null,
      "outputs": [
        {
          "output_type": "stream",
          "text": [
            "/usr/local/lib/python3.7/dist-packages/ipykernel_launcher.py:3: UserWarning: To copy construct from a tensor, it is recommended to use sourceTensor.clone().detach() or sourceTensor.clone().detach().requires_grad_(True), rather than torch.tensor(sourceTensor).\n",
            "  This is separate from the ipykernel package so we can avoid doing imports until\n"
          ],
          "name": "stderr"
        }
      ]
    },
    {
      "cell_type": "code",
      "metadata": {
        "id": "wOJDVDZWQUH_"
      },
      "source": [
        "def label_grid(label):\n",
        "  grid=intLabels(label[0])\n",
        "  for i in range(1,3,1):\n",
        "    grid=np.append(grid, intLabels(label[i]), axis=1)\n",
        "  return grid"
      ],
      "id": "wOJDVDZWQUH_",
      "execution_count": null,
      "outputs": []
    },
    {
      "cell_type": "code",
      "metadata": {
        "id": "_2ufYxYwRYwl"
      },
      "source": [
        "preds=np.array(preds.clone().detach().cpu())\n",
        "labels=np.array(labels.clone().detach().cpu())"
      ],
      "id": "_2ufYxYwRYwl",
      "execution_count": null,
      "outputs": []
    },
    {
      "cell_type": "code",
      "metadata": {
        "id": "9nNv2s1wQURY"
      },
      "source": [
        "pred_grid=label_grid(preds)\n",
        "label_grid=label_grid(labels)"
      ],
      "id": "9nNv2s1wQURY",
      "execution_count": null,
      "outputs": []
    },
    {
      "cell_type": "code",
      "metadata": {
        "colab": {
          "base_uri": "https://localhost:8080/"
        },
        "id": "xX_OM6nXR0NL",
        "outputId": "7d1e089e-fea3-4f00-c355-8227c12fb567"
      },
      "source": [
        "print(pred_grid.shape)"
      ],
      "id": "xX_OM6nXR0NL",
      "execution_count": null,
      "outputs": [
        {
          "output_type": "stream",
          "text": [
            "(256, 768)\n"
          ],
          "name": "stdout"
        }
      ]
    },
    {
      "cell_type": "code",
      "metadata": {
        "colab": {
          "base_uri": "https://localhost:8080/",
          "height": 180
        },
        "id": "4OZrveEfSinp",
        "outputId": "a0ca6dd6-c22e-4b5c-b918-3cbf3d3c7e32"
      },
      "source": [
        "%matplotlib inline\n",
        "plt.imshow(pred_grid)"
      ],
      "id": "4OZrveEfSinp",
      "execution_count": null,
      "outputs": [
        {
          "output_type": "execute_result",
          "data": {
            "text/plain": [
              "<matplotlib.image.AxesImage at 0x7f1878258150>"
            ]
          },
          "metadata": {
            "tags": []
          },
          "execution_count": 88
        },
        {
          "output_type": "display_data",
          "data": {
            "image/png": "[encoded data removed]",
            "text/plain": [
              "<Figure size 432x288 with 1 Axes>"
            ]
          },
          "metadata": {
            "tags": [],
            "needs_background": "light"
          }
        }
      ]
    },
    {
      "cell_type": "code",
      "metadata": {
        "colab": {
          "base_uri": "https://localhost:8080/",
          "height": 180
        },
        "id": "ylfquvGKTf7r",
        "outputId": "20b967a7-bcbc-403d-f6a2-bcacaf4bf146"
      },
      "source": [
        "plt.imshow(label_grid)"
      ],
      "id": "ylfquvGKTf7r",
      "execution_count": null,
      "outputs": [
        {
          "output_type": "execute_result",
          "data": {
            "text/plain": [
              "<matplotlib.image.AxesImage at 0x7f1878237a50>"
            ]
          },
          "metadata": {
            "tags": []
          },
          "execution_count": 89
        },
        {
          "output_type": "display_data",
          "data": {
            "image/png": "[encoded data removed]",
            "text/plain": [
              "<Figure size 432x288 with 1 Axes>"
            ]
          },
          "metadata": {
            "tags": [],
            "needs_background": "light"
          }
        }
      ]
    },
    {
      "cell_type": "code",
      "metadata": {
        "id": "_G6N_otiY1je"
      },
      "source": [
        ""
      ],
      "id": "_G6N_otiY1je",
      "execution_count": null,
      "outputs": []
    }
  ]
}